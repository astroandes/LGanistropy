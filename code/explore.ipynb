{
 "cells": [
  {
   "cell_type": "code",
   "execution_count": 1,
   "metadata": {
    "collapsed": true
   },
   "outputs": [],
   "source": [
    "import matplotlib.pyplot as plt\n",
    "import numpy as np\n",
    "import matplotlib.cm as cm\n",
    "from scipy.optimize import curve_fit\n",
    "import corner\n",
    "import matplotlib as mpl\n",
    "import struct\n",
    "%matplotlib inline"
   ]
  },
  {
   "cell_type": "code",
   "execution_count": 2,
   "metadata": {
    "collapsed": true
   },
   "outputs": [],
   "source": [
    "def read_CIC_scalar(filename):\n",
    "    f = open(filename, \"rb\")\n",
    "    dumb = f.read(38)\n",
    "\n",
    "    dumb = f.read(4)\n",
    "    n_x = f.read(4)\n",
    "    n_y = f.read(4)\n",
    "    n_z = f.read(4)\n",
    "    nodes = f.read(8)\n",
    "    x0 = f.read(4)\n",
    "    y0 = f.read(4)\n",
    "    z0 = f.read(4)\n",
    "    dx = f.read(4)\n",
    "    dy = f.read(4)\n",
    "    dz = f.read(4)\n",
    "    dumb = f.read(4)\n",
    "\n",
    "    n_x = (struct.unpack('i', n_x))[0]\n",
    "    n_y = (struct.unpack('i', n_y))[0]\n",
    "    n_z = (struct.unpack('i', n_z))[0]\n",
    "    nodes = (struct.unpack('q', nodes))[0]\n",
    "    dx = (struct.unpack('f', dx))[0]\n",
    "    dy = (struct.unpack('f', dy))[0]\n",
    "    dz = (struct.unpack('f', dz))[0]\n",
    "    x0 = (struct.unpack('f', x0))[0]\n",
    "    y0 = (struct.unpack('f', y0))[0]\n",
    "    z0 = (struct.unpack('f', z0))[0]\n",
    "    print n_x, n_y, n_z, nodes, dx, dy, dz\n",
    "\n",
    "    total_nodes = n_x * n_y *n_z\n",
    "    dumb = f.read(4)\n",
    "    array_data = f.read(total_nodes*4)\n",
    "    dumb = f.read(4)\n",
    "    format_s = str(total_nodes)+'f'\n",
    "    array_data = struct.unpack(format_s, array_data)\n",
    "    f.close()\n",
    "    array_data  = np.array(array_data)\n",
    "    array_data.resize(n_z,n_y,n_x)\n",
    "    array_data = array_data.transpose()\n",
    "    return {'eigenval':array_data, 'delta_x':dx}\n"
   ]
  },
  {
   "cell_type": "code",
   "execution_count": 3,
   "metadata": {
    "collapsed": true
   },
   "outputs": [],
   "source": [
    "def read_vector_ascii(filename, boxsize=75000.0):\n",
    "    data = np.loadtxt(filename)\n",
    "    ii = data[:,0]\n",
    "    n_side = len(set(ii))\n",
    "    print(n_side)\n",
    "    delta_size = boxsize/n_side\n",
    "    new_data = np.ones((3,n_side, n_side, n_side))\n",
    "    n = 0 \n",
    "    for i in range(n_side):\n",
    "        for j in range(n_side):\n",
    "            for k in range(n_side):\n",
    "                new_data[:,i,j,k] = data[n,3:]\n",
    "                n= n+1\n",
    "    return {'eigenvec':new_data, 'delta_x':delta_size}"
   ]
  },
  {
   "cell_type": "code",
   "execution_count": 4,
   "metadata": {
    "collapsed": true
   },
   "outputs": [],
   "source": [
    "import numpy as np\n",
    "import matplotlib.pyplot as plt\n",
    "import scipy.optimize as so\n",
    "\n",
    "def find_confidence_interval(x, pdf, confidence_level):\n",
    "    return pdf[pdf > x].sum() - confidence_level\n",
    "\n",
    "def density_contour(xdata, ydata, nbins_x, nbins_y, ax=None, **contour_kwargs):\n",
    "    \"\"\" Create a density contour plot. \n",
    "    Source code: Adrian Price-Whelan https://gist.github.com/adrn/3993992\n",
    "    Parameters\n",
    "    ----------\n",
    "    xdata : numpy.ndarray\n",
    "    ydata : numpy.ndarray\n",
    "    nbins_x : int\n",
    "        Number of bins along x dimension\n",
    "    nbins_y : int\n",
    "        Number of bins along y dimension\n",
    "    ax : matplotlib.Axes (optional)\n",
    "        If supplied, plot the contour to this axis. Otherwise, open a new figure\n",
    "    contour_kwargs : dict\n",
    "        kwargs to be passed to pyplot.contour()\n",
    "    \"\"\"\n",
    "\n",
    "    H, xedges, yedges = np.histogram2d(xdata, ydata, bins=(nbins_x,nbins_y), normed=True)\n",
    "    x_bin_sizes = (xedges[1:] - xedges[:-1]).reshape((1,nbins_x))\n",
    "    y_bin_sizes = (yedges[1:] - yedges[:-1]).reshape((nbins_y,1))\n",
    "\n",
    "    pdf = (H*(x_bin_sizes*y_bin_sizes))\n",
    "\n",
    "    one_sigma = so.brentq(find_confidence_interval, 0., 1., args=(pdf, 1.0 - np.exp(-0.5)))\n",
    "    two_sigma = so.brentq(find_confidence_interval, 0., 1., args=(pdf, 1.0 - np.exp(-2.0)))\n",
    "    three_sigma = so.brentq(find_confidence_interval, 0., 1., args=(pdf, 1.0 - np.exp(-4.5)))\n",
    "    levels = [one_sigma, two_sigma, three_sigma]\n",
    "\n",
    "    X, Y = 0.5*(xedges[1:]+xedges[:-1]), 0.5*(yedges[1:]+yedges[:-1])\n",
    "    Z = pdf.T\n",
    "\n",
    "    if ax == None:\n",
    "        contour = plt.contour(X, Y, Z, levels=levels, origin=\"lower\", **contour_kwargs)\n",
    "    else:\n",
    "        contour = ax.contour(X, Y, Z, levels=levels, origin=\"lower\", **contour_kwargs)\n",
    "\n",
    "    return contour"
   ]
  },
  {
   "cell_type": "code",
   "execution_count": 5,
   "metadata": {
    "collapsed": true
   },
   "outputs": [],
   "source": [
    "def set_ticklabels(ax, size=18):\n",
    "    ticklabels_x = ax.get_xticklabels()\n",
    "    ticklabels_y = ax.get_yticklabels()\n",
    "\n",
    "    for label_x in ticklabels_x:\n",
    "        label_x.set_fontsize(size)\n",
    "        label_x.set_family('serif')\n",
    "    for label_y in ticklabels_y:\n",
    "        label_y.set_fontsize(size)\n",
    "        label_y.set_family('serif')"
   ]
  },
  {
   "cell_type": "code",
   "execution_count": 6,
   "metadata": {
    "collapsed": true
   },
   "outputs": [],
   "source": [
    "def main_halos(snap_data):\n",
    "    sorted_vmax = snap_data['vmax']\n",
    "    sorted_vmax = np.sort(sorted_vmax)\n",
    "    v_max_A = sorted_vmax[-1]\n",
    "    v_max_B = sorted_vmax[-2]\n",
    "    v_max_C = sorted_vmax[-3]\n",
    "    ii = snap_data['vmax']==v_max_A\n",
    "    jj = snap_data['vmax']==v_max_B\n",
    "    #kk = snap_data['vmax']==v_max_C\n",
    "    index = (ii | jj)\n",
    "    #print sorted_vmax[-3::]\n",
    "    main_halos_data = snap_data[index]\n",
    "    if(main_halos_data['vmax'][0] < main_halos_data['vmax'][1]):\n",
    "        tmp = main_halos_data[0].copy()\n",
    "        main_halos_data[0] = main_halos_data[1].copy()\n",
    "        main_halos_data[1] = tmp.copy()\n",
    "    return main_halos_data"
   ]
  },
  {
   "cell_type": "code",
   "execution_count": 7,
   "metadata": {
    "collapsed": true
   },
   "outputs": [],
   "source": [
    "def satellite_halos(halo_data, halo_center):\n",
    "    tmp_halo = halo_data.copy()\n",
    "    radius = halo_center['vmax']/(10.0 * 100) * 1000 # in kpc/h\n",
    "    for col in list(['x','y','z']):\n",
    "        tmp_halo[col] = tmp_halo[col] - halo_center[col]\n",
    "    r = np.sqrt(tmp_halo['x']**2 + tmp_halo['y']**2 + tmp_halo['z']**2)\n",
    "    ii = r < radius\n",
    "    return halo_data[ii]"
   ]
  },
  {
   "cell_type": "code",
   "execution_count": 8,
   "metadata": {
    "collapsed": false
   },
   "outputs": [],
   "source": [
    "def load_snapshot(snap_name, boxsize=75000.0):\n",
    "    dtype=[('subid','i8'),\n",
    "           ('x', 'f8'),\n",
    "           ('y', 'f8'), \n",
    "           ('z', 'f8'),\n",
    "           ('vx', 'f8'),\n",
    "           ('vy', 'f8'),\n",
    "           ('vz', 'f8'),\n",
    "           ('vmax', 'f8'),\n",
    "           ('bmag', 'f8')]\n",
    "    snap_data = np.loadtxt(snap_name, dtype=dtype)    \n",
    "    # this takes into account periodic boudary conditions\n",
    "    for col in list(['x','y','z']):\n",
    "        if((snap_data[col].max() - snap_data[col].min()) > 0.5 * boxsize):\n",
    "            snap_data[col] = (snap_data[col] - 0.5 * boxsize) % boxsize\n",
    "        \n",
    "    return snap_data"
   ]
  },
  {
   "cell_type": "code",
   "execution_count": 9,
   "metadata": {
    "collapsed": true
   },
   "outputs": [],
   "source": [
    "def load_obs(obs_name):\n",
    "    dtype=[('name','|S20'),\n",
    "           ('x', 'f8'),\n",
    "           ('y', 'f8'), \n",
    "           ('z', 'f8'),\n",
    "           ('delta_plus', 'f8'),\n",
    "           ('delta_minus', 'f8'),\n",
    "           ('bmag', 'f8'),\n",
    "           ('delta_bmag', 'f8')]\n",
    "    obs_data = np.loadtxt(obs_name, dtype=dtype)    \n",
    "    return obs_data"
   ]
  },
  {
   "cell_type": "code",
   "execution_count": 29,
   "metadata": {
    "collapsed": false
   },
   "outputs": [],
   "source": [
    "def get_environment(eigenv_1, eigenv_2, eigenv_3, \n",
    "                    eigenvec_1, eigenvec_2, eigenvec_3, pos_x=0.0, pos_y=0.0, pos_z=0.0):\n",
    "    delta_x = eigenv_1['delta_x']\n",
    "    i = int(pos_x//delta_x)\n",
    "    j = int(pos_y//delta_x)\n",
    "    k = int(pos_z//delta_x)\n",
    "    norma = np.sqrt(np.sum(eigenvec_3['eigenvec'][:,i,j,k]**2))\n",
    "    e1 = eigenv_1['eigenval'][i,j,k]\n",
    "    e2 = eigenv_2['eigenval'][i,j,k]\n",
    "    e3 = eigenv_3['eigenval'][i,j,k]\n",
    "    FA = ((e1-e3)**2 + (e2-e3)**2 + (e1-e2)**2)/(e1**2 + e2**2 + e3**2)\n",
    "    FA = np.sqrt(FA/3.0)\n",
    "    return {'eigen_1': eigenv_1['eigenval'][i,j,k],\n",
    "                'eigen_2': eigenv_2['eigenval'][i,j,k],\n",
    "                'eigen_3': eigenv_3['eigenval'][i,j,k],\n",
    "                'eigenvec_3': eigenvec_3['eigenvec'][:,i,j,k]/norma, \n",
    "                'eigenvec_1': eigenvec_1['eigenvec'][:,i,j,k]/norma, \n",
    "               'FA': FA}"
   ]
  },
  {
   "cell_type": "code",
   "execution_count": 30,
   "metadata": {
    "collapsed": false
   },
   "outputs": [
    {
     "name": "stdout",
     "output_type": "stream",
     "text": [
      "76 76 76 438976 986.842102051 986.842102051 986.842102051\n",
      "76 76 76 438976 986.842102051 986.842102051 986.842102051\n",
      "76 76 76 438976 986.842102051 986.842102051 986.842102051\n",
      "76\n",
      "76\n",
      "76\n"
     ]
    }
   ],
   "source": [
    "eigen_1 = read_CIC_scalar(\"../data/tweb/snap_135.s1.00.eigen_1\")\n",
    "eigen_2 = read_CIC_scalar(\"../data/tweb/snap_135.s1.00.eigen_2\")\n",
    "eigen_3 = read_CIC_scalar(\"../data/tweb/snap_135.s1.00.eigen_3\")\n",
    "eigenv_1 = read_vector_ascii(\"../data/tweb/snap_135.s1.00.eigenvec_1.dat\")\n",
    "eigenv_2 = read_vector_ascii(\"../data/tweb/snap_135.s1.00.eigenvec_2.dat\")\n",
    "eigenv_3 = read_vector_ascii(\"../data/tweb/snap_135.s1.00.eigenvec_3.dat\")\n",
    "\n",
    "\n",
    "FA = (eigen_1['eigenval']-eigen_3['eigenval'])**2  + (eigen_2['eigenval']-eigen_3['eigenval'])**2\\\n",
    "    + (eigen_1['eigenval']-eigen_2['eigenval'])**2 \n",
    "FA = FA/(eigen_1['eigenval']**2 + eigen_2['eigenval']**2 + eigen_3['eigenval']**2)\n",
    "FA = np.sqrt(FA)/np.sqrt(3.0)"
   ]
  },
  {
   "cell_type": "code",
   "execution_count": 31,
   "metadata": {
    "collapsed": false
   },
   "outputs": [],
   "source": [
    "def get_beta(center, sat_pos, sat_vel):\n",
    "    beta = 0.0\n",
    "    center_sat_pos = np.zeros(3)\n",
    "    center_sat_vel = np.zeros(3)\n",
    "    #print 'center', center\n",
    "    n = len(sat_pos)\n",
    "    #print 'satellites', n\n",
    "    \n",
    "    sum_perp = 0.0\n",
    "    sum_parallel = 0.0\n",
    "    for i in range(n):\n",
    "        #print 'center sat pos', sat_pos[i]\n",
    "        center_sat_pos[0] = sat_pos['x'][i] - center['x']\n",
    "        center_sat_pos[1] = sat_pos['y'][i] - center['y']\n",
    "        center_sat_pos[2] = sat_pos['z'][i] - center['z']\n",
    "        center_sat_vel[0] = sat_vel['vx'][i] - center['vx'] \n",
    "        center_sat_vel[1] = sat_vel['vy'][i] - center['vy']\n",
    "        center_sat_vel[2] = sat_vel['vz'][i] - center['vz']\n",
    "        \n",
    "        norm_pos = np.sqrt(np.sum(center_sat_pos * center_sat_pos))\n",
    "        norm_vel = np.sqrt(np.sum(center_sat_vel * center_sat_vel))\n",
    "        #print 'norm pos vel', norm_pos, norm_vel\n",
    "        if (norm_pos>0 and norm_vel >1.0):\n",
    "            p_vel = (np.sum(center_sat_pos*center_sat_vel)/norm_pos)\n",
    "            sum_parallel += p_vel**2.0\n",
    "            sum_perp += norm_vel**2.0 - p_vel**2.0\n",
    "            \n",
    "            #print 'parallel, perp', parallel_vel, perp_vel\n",
    "           \n",
    "    beta = 1.0 - sum_perp/(2.0*sum_parallel)\n",
    "    return beta"
   ]
  },
  {
   "cell_type": "code",
   "execution_count": 32,
   "metadata": {
    "collapsed": false
   },
   "outputs": [],
   "source": [
    "n_pairs = 53\n",
    "beta_A = np.ones(n_pairs)\n",
    "beta_B = np.ones(n_pairs)\n",
    "n_bright_A = np.ones(n_pairs)\n",
    "n_bright_B = np.ones(n_pairs)\n",
    "FA_A = np.ones(n_pairs)\n",
    "FA_B = np.ones(n_pairs)\n",
    "\n",
    "for i in range(n_pairs):\n",
    "    filename = \"../data/dm_selected/Illustris_group_{}.dat\".format(i)\n",
    "    data = load_snapshot(filename)\n",
    "    main_h_data = main_halos(data)\n",
    "    \n",
    "    satellite_data_A = satellite_halos(data, main_h_data[0])\n",
    "    satellite_data_B = satellite_halos(data, main_h_data[1])\n",
    "    #print '==='\n",
    "    i_A = satellite_data_A['bmag'] < -8.0\n",
    "    i_B = satellite_data_B['bmag'] < -8.0\n",
    "\n",
    "    n_bright_A[i] = np.count_nonzero(i_A)\n",
    "    n_bright_B[i] = np.count_nonzero(i_B)\n",
    "    #print len(satellite_data_B[i_B])\n",
    "    #print len(satellite_data_B)\n",
    "    beta_A[i] = get_beta(main_h_data[0], \n",
    "                        satellite_data_A[['x','y','z']][i_A],\n",
    "                        satellite_data_A[['vx','vy','vz']][i_A])\n",
    "    beta_B[i] = get_beta(main_h_data[1], \n",
    "                        satellite_data_B[['x','y','z']][i_B],\n",
    "                        satellite_data_B[['vx','vy','vz']][i_B])\n",
    "    env_A = get_environment(eigen_1, eigen_2, eigen_3, \n",
    "                            eigenv_1, eigenv_2, eigenv_3, \n",
    "                            pos_x=main_h_data[0]['x'], \n",
    "                            pos_y=main_h_data[0]['y'], \n",
    "                            pos_z=main_h_data[0]['z'])\n",
    "    env_B = get_environment(eigen_1, eigen_2, eigen_3, \n",
    "                            eigenv_1, eigenv_2, eigenv_3, \n",
    "                            pos_x=main_h_data[1]['x'], \n",
    "                            pos_y=main_h_data[1]['y'], \n",
    "                            pos_z=main_h_data[1]['z'])\n",
    "    FA_A[i] = env_A['FA']\n",
    "    FA_B[i] = env_B['FA']"
   ]
  },
  {
   "cell_type": "code",
   "execution_count": 57,
   "metadata": {
    "collapsed": false
   },
   "outputs": [
    {
     "name": "stdout",
     "output_type": "stream",
     "text": [
      "2 39\n"
     ]
    },
    {
     "data": {
      "image/png": "[encoded data removed]",
      "text/plain": [
       "<matplotlib.figure.Figure at 0x7f14d39bcbd0>"
      ]
     },
     "metadata": {},
     "output_type": "display_data"
    }
   ],
   "source": [
    "#plt.scatter(beta_A, beta_B)\n",
    "beta = beta_A.copy()\n",
    "beta = np.append(beta, beta_B)\n",
    "\n",
    "n_bright = n_bright_A.copy()\n",
    "n_bright = np.append(n_bright, n_bright_B)\n",
    "\n",
    "fa = FA_A.copy()\n",
    "fa = np.append(fa, FA_B)\n",
    "ii = beta< -2.0\n",
    "print np.count_nonzero(ii[n_bright>9]), len(beta[n_bright>9])\n",
    "a = plt.hist(beta_A[n_bright_A>9], bins=np.linspace(-3.0,1.0,15), normed=True)\n",
    "a = plt.hist(beta_B[n_bright_B>9], bins=np.linspace(-3.0,1.0,15), normed=True)\n",
    "#a = plt.hist(beta[n_bright>9], bins=np.linspace(-3.0,1.0,30), normed=True)"
   ]
  },
  {
   "cell_type": "code",
   "execution_count": 58,
   "metadata": {
    "collapsed": false
   },
   "outputs": [
    {
     "data": {
      "text/plain": [
       "<matplotlib.collections.PathCollection at 0x7f14d75d12d0>"
      ]
     },
     "execution_count": 58,
     "metadata": {},
     "output_type": "execute_result"
    },
    {
     "data": {
      "image/png": "[encoded data removed]",
      "text/plain": [
       "<matplotlib.figure.Figure at 0x7f14d7c52610>"
      ]
     },
     "metadata": {},
     "output_type": "display_data"
    }
   ],
   "source": [
    "plt.scatter(beta_A[n_bright_A>9], beta_B[n_bright_A>9])"
   ]
  },
  {
   "cell_type": "code",
   "execution_count": 59,
   "metadata": {
    "collapsed": false
   },
   "outputs": [
    {
     "data": {
      "text/plain": [
       "(-8, 1)"
      ]
     },
     "execution_count": 59,
     "metadata": {},
     "output_type": "execute_result"
    },
    {
     "data": {
      "image/png": "[encoded data removed]",
      "text/plain": [
       "<matplotlib.figure.Figure at 0x7f14d769a790>"
      ]
     },
     "metadata": {},
     "output_type": "display_data"
    }
   ],
   "source": [
    "plt.scatter(n_bright_A, beta_A)\n",
    "plt.scatter(n_bright_B, beta_B)\n",
    "plt.xlim([6.5,30])\n",
    "plt.ylim([-8,1])"
   ]
  },
  {
   "cell_type": "code",
   "execution_count": 60,
   "metadata": {
    "collapsed": false
   },
   "outputs": [
    {
     "data": {
      "text/plain": [
       "<matplotlib.collections.PathCollection at 0x7f14d74355d0>"
      ]
     },
     "execution_count": 60,
     "metadata": {},
     "output_type": "execute_result"
    },
    {
     "data": {
      "image/png": "[encoded data removed]",
      "text/plain": [
       "<matplotlib.figure.Figure at 0x7f14d74b71d0>"
      ]
     },
     "metadata": {},
     "output_type": "display_data"
    }
   ],
   "source": [
    "plt.scatter(fa, beta)"
   ]
  },
  {
   "cell_type": "code",
   "execution_count": 61,
   "metadata": {
    "collapsed": false
   },
   "outputs": [
    {
     "data": {
      "text/plain": [
       "<matplotlib.collections.PathCollection at 0x7f14d73f04d0>"
      ]
     },
     "execution_count": 61,
     "metadata": {},
     "output_type": "execute_result"
    },
    {
     "data": {
      "image/png": "[encoded data removed]",
      "text/plain": [
       "<matplotlib.figure.Figure at 0x7f14d744db50>"
      ]
     },
     "metadata": {},
     "output_type": "display_data"
    }
   ],
   "source": [
    "plt.scatter(fa, n_bright)"
   ]
  },
  {
   "cell_type": "code",
   "execution_count": 62,
   "metadata": {
    "collapsed": true
   },
   "outputs": [],
   "source": [
    "n = len(fa)\n",
    "f = open('summary.dat', 'w')\n",
    "for i in range(n):\n",
    "    f.write('{} {} {}\\n'.format(fa[i], n_bright[i], beta[i]))\n",
    "f.close()"
   ]
  },
  {
   "cell_type": "code",
   "execution_count": 87,
   "metadata": {
    "collapsed": false
   },
   "outputs": [
    {
     "name": "stdout",
     "output_type": "stream",
     "text": [
      "23 23\n"
     ]
    }
   ],
   "source": [
    "ii = np.where(beta < -2.2)\n",
    "ii = ii[0]\n",
    "jj = np.where(beta >= -2.2)\n",
    "jj = jj[0]\n",
    "n_good = len(ii)\n",
    "print n_good, len(fa[ii])\n",
    "n_bad = len(jj)\n",
    "n_all = len(beta)\n",
    "int_good = np.linspace(1.0/n_good, 1.0, n_good)\n",
    "int_bad = np.linspace(1.0/n_bad, 1.0, n_bad)\n",
    "int_all = np.linspace(1.0/n_all, 1.0, n_all)\n",
    "fa_good = fa[ii]"
   ]
  },
  {
   "cell_type": "code",
   "execution_count": 88,
   "metadata": {
    "collapsed": false
   },
   "outputs": [
    {
     "data": {
      "text/plain": [
       "[<matplotlib.lines.Line2D at 0x7f14d7cb7b10>]"
      ]
     },
     "execution_count": 88,
     "metadata": {},
     "output_type": "execute_result"
    },
    {
     "data": {
      "image/png": "[encoded data removed]",
      "text/plain": [
       "<matplotlib.figure.Figure at 0x7f14d6fe8510>"
      ]
     },
     "metadata": {},
     "output_type": "display_data"
    }
   ],
   "source": [
    "plt.plot(np.sort(fa[ii]), int_good)\n",
    "plt.plot(np.sort(fa[jj]), int_bad)\n",
    "plt.plot(np.sort(fa), int_all)"
   ]
  },
  {
   "cell_type": "code",
   "execution_count": 89,
   "metadata": {
    "collapsed": false
   },
   "outputs": [
    {
     "data": {
      "text/plain": [
       "[<matplotlib.lines.Line2D at 0x7f14d39b9d50>]"
      ]
     },
     "execution_count": 89,
     "metadata": {},
     "output_type": "execute_result"
    },
    {
     "data": {
      "image/png": "[encoded data removed]",
      "text/plain": [
       "<matplotlib.figure.Figure at 0x7f14d6fbf4d0>"
      ]
     },
     "metadata": {},
     "output_type": "display_data"
    }
   ],
   "source": [
    "plt.plot(np.sort(n_bright[ii]), int_good)\n",
    "plt.plot(np.sort(n_bright[jj]), int_bad)\n",
    "plt.plot(np.sort(n_bright), int_all)"
   ]
  },
  {
   "cell_type": "code",
   "execution_count": null,
   "metadata": {
    "collapsed": true
   },
   "outputs": [],
   "source": []
  },
  {
   "cell_type": "code",
   "execution_count": null,
   "metadata": {
    "collapsed": true
   },
   "outputs": [],
   "source": []
  }
 ],
 "metadata": {
  "kernelspec": {
   "display_name": "Python 2",
   "language": "python",
   "name": "python2"
  },
  "language_info": {
   "codemirror_mode": {
    "name": "ipython",
    "version": 2
   },
   "file_extension": ".py",
   "mimetype": "text/x-python",
   "name": "python",
   "nbconvert_exporter": "python",
   "pygments_lexer": "ipython2",
   "version": "2.7.6"
  }
 },
 "nbformat": 4,
 "nbformat_minor": 0
}
